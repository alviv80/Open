{
 "cells": [
  {
   "cell_type": "markdown",
   "metadata": {},
   "source": [
    "# Тестовое задание, Альфа-Лизинг\n",
    "**2020/01**\n",
    "\n",
    "*Александр Иванов*"
   ]
  },
  {
   "cell_type": "markdown",
   "metadata": {},
   "source": [
    "## Задание"
   ]
  },
  {
   "cell_type": "markdown",
   "metadata": {},
   "source": [
    "Мы в компании Альфа-Лизинг помимо машин продаем клиентам более крупные предметы, включая поезда, корабли и самолеты. Чтобы немного дифференцировать свой бизнес, мы решили запустить несколько стартапов на рынках, с которыми мы немного знакомы. \n",
    "\n",
    "Одним из таких стартапов является сервис по поиску, бронированию билетов и отслеживанию рейсов на самолеты. Сервис мы решили запустить в США, чтобы проверить спрос на него на самом конкурентном рынке. Наши конкуренты сосредоточены на экстенсивном развитии: продажа билетов на другие виды транспорта (помимо самолетов), продажа туров, экскурсий, аренда авто и так далее. Мы же хотим сосредоточиться на интенсивном развитии: не только продажа билетов на самолеты, но и отслеживание информации о рейсе в личном кабинете. Мы быстро можем реализовать функционал поиска и покупки билетов с помощью коробочного решения, которое мы купим у партнеров. Однако, перед принятием решения нам нужно продумать функционал самой важной части продукта, которая будет нас отличать от всех конкурентов - личный кабинет. \n",
    "\n",
    "С точки зрения концепции, мы полагаем, что нашим клиентам будет интересно отслеживать всю необходимую информацию о своем рейсе в удобном формате. С точки зрения бизнес-модели, нам кажется, что мы сможем продавать в личном кабинете дополнительные продукты и услуги (туры, экскурсии, аренда авто и так далее) с максимальной конверсией, которая будет значительно выше, чем у конкурентов при простой продаже на  сайте. "
   ]
  },
  {
   "cell_type": "markdown",
   "metadata": {},
   "source": [
    "## Гипотезы"
   ]
  },
  {
   "cell_type": "markdown",
   "metadata": {},
   "source": [
    "#### Наиболее чувствительной информацией, содержащейся в данном датасете, для пассажиров является информация  об отмене, задержке рейса. Предположим, что данные переменные имеют зависимости с другими переменными датасета. Проверим эти гипотезы."
   ]
  },
  {
   "cell_type": "code",
   "execution_count": 1,
   "metadata": {},
   "outputs": [],
   "source": [
    "import pandas as pd\n",
    "import numpy as np\n",
    "import itertools\n",
    "#import xgboost as xgb\n",
    "\n",
    "from sklearn import metrics\n",
    "from statsmodels.stats.weightstats import *\n",
    "from statsmodels.stats.proportion import proportion_confint\n",
    "import scipy.stats as ss\n",
    "\n",
    "from matplotlib import pyplot as plt\n",
    "import seaborn as sns\n",
    "%matplotlib inline"
   ]
  },
  {
   "cell_type": "markdown",
   "metadata": {},
   "source": [
    "### Описание переменных"
   ]
  },
  {
   "cell_type": "markdown",
   "metadata": {},
   "source": [
    "Variable descriptions\n",
    "Name\tDescription\n",
    "1\tYear\t1987-2008\n",
    "2\tMonth\t1-12\n",
    "3\tDayofMonth\t1-31\n",
    "4\tDayOfWeek\t1 (Monday) - 7 (Sunday)\n",
    "5\tDepTime\tactual departure time (local, hhmm)\n",
    "6\tCRSDepTime\tscheduled departure time (local, hhmm)\n",
    "7\tArrTime\tactual arrival time (local, hhmm)\n",
    "8\tCRSArrTime\tscheduled arrival time (local, hhmm)\n",
    "9\tUniqueCarrier\tunique carrier code\n",
    "10\tFlightNum\tflight number\n",
    "11\tTailNum\tplane tail number\n",
    "12\tActualElapsedTime\tin minutes\n",
    "13\tCRSElapsedTime\tin minutes\n",
    "14\tAirTime\tin minutes\n",
    "15\tArrDelay\tarrival delay, in minutes\n",
    "16\tDepDelay\tdeparture delay, in minutes\n",
    "17\tOrigin\torigin IATA airport code\n",
    "18\tDest\tdestination IATA airport code\n",
    "19\tDistance\tin miles\n",
    "20\tTaxiIn\ttaxi in time, in minutes\n",
    "21\tTaxiOut\ttaxi out time in minutes\n",
    "22\tCancelled\twas the flight cancelled?\n",
    "23\tCancellationCode\treason for cancellation (A = carrier, B = weather, C = NAS, D = security)\n",
    "24\tDiverted\t1 = yes, 0 = no\n",
    "25\tCarrierDelay\tin minutes\n",
    "26\tWeatherDelay\tin minutes\n",
    "27\tNASDelay\tin minutes\n",
    "28\tSecurityDelay\tin minutes\n",
    "29\tLateAircraftDelay\tin minutes"
   ]
  },
  {
   "cell_type": "markdown",
   "metadata": {},
   "source": [
    "### Загрузим данные из датасета"
   ]
  },
  {
   "cell_type": "code",
   "execution_count": 2,
   "metadata": {},
   "outputs": [],
   "source": [
    "#Загрузим данные из файла в dataframe\n",
    "data = pd.read_csv(\"data/2008.csv\")"
   ]
  },
  {
   "cell_type": "code",
   "execution_count": 3,
   "metadata": {},
   "outputs": [],
   "source": [
    "#Удалим столбец Year, т.к. он не несет полезной информации\n",
    "data.drop(['Year'], axis='columns', inplace=True)\n",
    "data.drop(['Diverted'], axis='columns', inplace=True)"
   ]
  },
  {
   "cell_type": "code",
   "execution_count": 4,
   "metadata": {},
   "outputs": [
    {
     "data": {
      "text/plain": [
       "(70000, 27)"
      ]
     },
     "execution_count": 4,
     "metadata": {},
     "output_type": "execute_result"
    }
   ],
   "source": [
    "#Выведем размер датафрейма\n",
    "data.shape"
   ]
  },
  {
   "cell_type": "code",
   "execution_count": 5,
   "metadata": {},
   "outputs": [
    {
     "data": {
      "text/plain": [
       "Month                  int64\n",
       "DayofMonth             int64\n",
       "DayOfWeek              int64\n",
       "DepTime              float64\n",
       "CRSDepTime             int64\n",
       "ArrTime              float64\n",
       "CRSArrTime             int64\n",
       "UniqueCarrier         object\n",
       "FlightNum              int64\n",
       "TailNum               object\n",
       "ActualElapsedTime    float64\n",
       "CRSElapsedTime       float64\n",
       "AirTime              float64\n",
       "ArrDelay             float64\n",
       "DepDelay             float64\n",
       "Origin                object\n",
       "Dest                  object\n",
       "Distance               int64\n",
       "TaxiIn               float64\n",
       "TaxiOut              float64\n",
       "Cancelled              int64\n",
       "CancellationCode      object\n",
       "CarrierDelay         float64\n",
       "WeatherDelay         float64\n",
       "NASDelay             float64\n",
       "SecurityDelay        float64\n",
       "LateAircraftDelay    float64\n",
       "dtype: object"
      ]
     },
     "execution_count": 5,
     "metadata": {},
     "output_type": "execute_result"
    }
   ],
   "source": [
    "#Выведем типы данных по столбцам\n",
    "data.dtypes"
   ]
  },
  {
   "cell_type": "code",
   "execution_count": 6,
   "metadata": {},
   "outputs": [
    {
     "name": "stdout",
     "output_type": "stream",
     "text": [
      "Month 0\n",
      "DayofMonth 0\n",
      "DayOfWeek 0\n",
      "DepTime 1399\n",
      "CRSDepTime 0\n",
      "ArrTime 1556\n",
      "CRSArrTime 0\n",
      "UniqueCarrier 0\n",
      "FlightNum 0\n",
      "TailNum 820\n",
      "ActualElapsedTime 1582\n",
      "CRSElapsedTime 9\n",
      "AirTime 1582\n",
      "ArrDelay 1582\n",
      "DepDelay 1399\n",
      "Origin 0\n",
      "Dest 0\n",
      "Distance 0\n",
      "TaxiIn 1556\n",
      "TaxiOut 1406\n",
      "Cancelled 0\n",
      "CancellationCode 68589\n",
      "CarrierDelay 54747\n",
      "WeatherDelay 54747\n",
      "NASDelay 54747\n",
      "SecurityDelay 54747\n",
      "LateAircraftDelay 54747\n"
     ]
    }
   ],
   "source": [
    "# Исследуем данные на предмет пропусков в разрезе столбцов\n",
    "for i in data.columns:\n",
    "    print(i,data[i].isnull().sum())"
   ]
  },
  {
   "cell_type": "code",
   "execution_count": 7,
   "metadata": {},
   "outputs": [],
   "source": [
    "# Заменим пустые значение в столбцах на 0 или среднее значение, предварительно сформируем списки с названием столбцов для замены\n",
    "# Пустые значения в следующих столбцах заменим на 0, т.к. вероятнее всего задержек и отмены у данных рейсов не было\n",
    "cat_columns_to_zero = ['CancellationCode','CarrierDelay','WeatherDelay','NASDelay','SecurityDelay','LateAircraftDelay']\n",
    "# Пустые значения в следующих столбцах заменим на среднее значение этого стлобца\n",
    "cat_columns_to_mean = ['DepTime','ArrTime','ActualElapsedTime','CRSElapsedTime','AirTime','ArrDelay','DepDelay','TaxiIn'\n",
    "                       ,'TaxiOut']"
   ]
  },
  {
   "cell_type": "code",
   "execution_count": 8,
   "metadata": {},
   "outputs": [
    {
     "name": "stdout",
     "output_type": "stream",
     "text": [
      "CancellationCode 0\n",
      "CarrierDelay 0\n",
      "WeatherDelay 0\n",
      "NASDelay 0\n",
      "SecurityDelay 0\n",
      "LateAircraftDelay 0\n"
     ]
    }
   ],
   "source": [
    "# Заменим пустые значения на 0\n",
    "for i in cat_columns_to_zero:\n",
    "    data[i] = data[i].fillna(0)\n",
    "    print(i,data[i].isnull().sum())"
   ]
  },
  {
   "cell_type": "code",
   "execution_count": 9,
   "metadata": {},
   "outputs": [
    {
     "name": "stdout",
     "output_type": "stream",
     "text": [
      "DepTime 0\n",
      "ArrTime 0\n",
      "ActualElapsedTime 0\n",
      "CRSElapsedTime 0\n",
      "AirTime 0\n",
      "ArrDelay 0\n",
      "DepDelay 0\n",
      "TaxiIn 0\n",
      "TaxiOut 0\n"
     ]
    }
   ],
   "source": [
    "# Заменим пустые значения на среднее\n",
    "for i in cat_columns_to_mean:\n",
    "    data[i] = data[i].fillna(data[i].mean())\n",
    "    print(i,data[i].isnull().sum())"
   ]
  },
  {
   "cell_type": "code",
   "execution_count": 10,
   "metadata": {},
   "outputs": [],
   "source": [
    "# Остались пустые значения в столбце TailNum, удалим такие строки из датафрейма совсем, т.к. заменить их на что-то \n",
    "# подходящее невозможно\n",
    "data = data.dropna()"
   ]
  },
  {
   "cell_type": "code",
   "execution_count": 11,
   "metadata": {},
   "outputs": [
    {
     "data": {
      "text/plain": [
       "(69180, 27)"
      ]
     },
     "execution_count": 11,
     "metadata": {},
     "output_type": "execute_result"
    }
   ],
   "source": [
    "# Повторно выведем размер датафрейма\n",
    "data.shape"
   ]
  },
  {
   "cell_type": "code",
   "execution_count": 12,
   "metadata": {},
   "outputs": [],
   "source": [
    "# Создадим вспомогательные датасеты для дальнейшего поиска корреляций\n",
    "labels_c = data['Cancelled']\n",
    "labels_ad = data['ArrDelay']\n",
    "labels_dd = data['DepDelay']"
   ]
  },
  {
   "cell_type": "code",
   "execution_count": 13,
   "metadata": {},
   "outputs": [
    {
     "name": "stdout",
     "output_type": "stream",
     "text": [
      "Количество числовых переменных -  17\n",
      "Количество категориальных переменных -  10\n"
     ]
    }
   ],
   "source": [
    "# Создадим списки столбцов с цифровыми и категориальными переменными. Для них используются разные методы поиска корреляции\n",
    "features_num = ['DepTime','CRSDepTime','ArrTime','CRSArrTime','ActualElapsedTime','CRSElapsedTime','AirTime','Distance'\n",
    "                ,'TaxiIn','TaxiOut','CarrierDelay','WeatherDelay','NASDelay','SecurityDelay','LateAircraftDelay','ArrDelay','DepDelay']\n",
    "features_cat = ['Month','DayofMonth','DayOfWeek','UniqueCarrier','FlightNum','TailNum','Origin','Dest','Cancelled','CancellationCode']\n",
    "#features_cat = data.columns[data.dtypes==object].tolist()\n",
    "#features_num = data.columns[data.dtypes!=object].tolist()\n",
    "print('Количество числовых переменных - ', len(features_num))\n",
    "print('Количество категориальных переменных - ', len(features_cat))"
   ]
  },
  {
   "cell_type": "markdown",
   "metadata": {},
   "source": [
    "### Числовые переменные"
   ]
  },
  {
   "cell_type": "code",
   "execution_count": 14,
   "metadata": {},
   "outputs": [],
   "source": [
    "# Корреляция Пирсона (используется для числовых переменных)\n",
    "corr = data[features_num].corr()"
   ]
  },
  {
   "cell_type": "code",
   "execution_count": 15,
   "metadata": {},
   "outputs": [
    {
     "data": {
      "text/plain": [
       "Distance             0.003324\n",
       "CRSElapsedTime       0.009102\n",
       "SecurityDelay        0.029503\n",
       "AirTime              0.030910\n",
       "ArrTime              0.062105\n",
       "ActualElapsedTime    0.089112\n",
       "CRSArrTime           0.112277\n",
       "CRSDepTime           0.116129\n",
       "TaxiIn               0.119605\n",
       "DepTime              0.175789\n",
       "WeatherDelay         0.270850\n",
       "TaxiOut              0.317781\n",
       "NASDelay             0.516316\n",
       "CarrierDelay         0.560784\n",
       "LateAircraftDelay    0.610395\n",
       "DepDelay             0.926704\n",
       "ArrDelay             1.000000\n",
       "Name: ArrDelay, dtype: float64"
      ]
     },
     "execution_count": 15,
     "metadata": {},
     "output_type": "execute_result"
    }
   ],
   "source": [
    "# Отдельно рассмотрим Корреляция показателя ArrDelay c другими числовыми переменными. \n",
    "corr.ArrDelay.sort_values()"
   ]
  },
  {
   "cell_type": "markdown",
   "metadata": {},
   "source": [
    "##### Корреляции, которые нас могут заинтересовать: TaxiOut, DepTime, TaxiIn. Особенно интересна корреляция Задержки прибытия с Временем отправления: чем позднее время отправления, тем больше задержка в прибытии"
   ]
  },
  {
   "cell_type": "code",
   "execution_count": 16,
   "metadata": {},
   "outputs": [
    {
     "data": {
      "text/plain": [
       "TaxiIn               0.020611\n",
       "Distance             0.024302\n",
       "AirTime              0.025014\n",
       "SecurityDelay        0.028767\n",
       "CRSElapsedTime       0.033808\n",
       "ActualElapsedTime    0.041022\n",
       "ArrTime              0.069743\n",
       "TaxiOut              0.097840\n",
       "CRSArrTime           0.132502\n",
       "CRSDepTime           0.137051\n",
       "DepTime              0.198135\n",
       "WeatherDelay         0.268698\n",
       "NASDelay             0.361988\n",
       "CarrierDelay         0.595389\n",
       "LateAircraftDelay    0.645582\n",
       "ArrDelay             0.926704\n",
       "DepDelay             1.000000\n",
       "Name: DepDelay, dtype: float64"
      ]
     },
     "execution_count": 16,
     "metadata": {},
     "output_type": "execute_result"
    }
   ],
   "source": [
    "# Для переменной DepDelay схожая картина, что логично\n",
    "corr.DepDelay.sort_values()"
   ]
  },
  {
   "cell_type": "code",
   "execution_count": 17,
   "metadata": {},
   "outputs": [
    {
     "name": "stdout",
     "output_type": "stream",
     "text": [
      "% отмененных рейсов: 0.008542931483087598\n",
      "% не отмененных рейсов: 0.9914570685169124\n"
     ]
    }
   ],
   "source": [
    "# Рассчитаем % отмененных рейсов\n",
    "print ('% отмененных рейсов:', data.Cancelled.mean())\n",
    "print ('% не отмененных рейсов:', 1 - data.Cancelled.mean())"
   ]
  },
  {
   "cell_type": "markdown",
   "metadata": {},
   "source": [
    "##### Отменено менее 1% рейсов"
   ]
  },
  {
   "cell_type": "code",
   "execution_count": 18,
   "metadata": {},
   "outputs": [
    {
     "name": "stdout",
     "output_type": "stream",
     "text": [
      "Доля класса \"ArrDelay\": 0.13330442324371206\n",
      "Доля класса \"not ArrDelay\": 0.8666955767562879\n"
     ]
    }
   ],
   "source": [
    "# Преобразуем Время задержки прибытия в категориальную переменную: Задержка более 30 минут -1, менее - 0.\n",
    "labels_ad=data.ArrDelay.copy()\n",
    "labels_ad.loc[data.ArrDelay>=30]=1\n",
    "labels_ad.loc[data.ArrDelay<30]=0\n",
    "print ('Доля класса \"ArrDelay\":', labels_ad.mean())\n",
    "print ('Доля класса \"not ArrDelay\":', 1 - labels_ad.mean())"
   ]
  },
  {
   "cell_type": "markdown",
   "metadata": {},
   "source": [
    "##### 13,3 % рейсов прибывают с опозданием более 30 минут"
   ]
  },
  {
   "cell_type": "code",
   "execution_count": 19,
   "metadata": {},
   "outputs": [],
   "source": [
    "# Добавим соответствующий столбец в общий датасет\n",
    "data['ArrDelay_cat']=labels_ad.copy()"
   ]
  },
  {
   "cell_type": "code",
   "execution_count": 20,
   "metadata": {},
   "outputs": [
    {
     "name": "stdout",
     "output_type": "stream",
     "text": [
      "Доля класса \"DepDelay\": 0.12119109569239665\n",
      "Доля класса \"not DepDelay\": 0.8788089043076034\n"
     ]
    }
   ],
   "source": [
    "# Преобразуем Время задержки отправления в категориальную переменную: Задержка более 30 минут -1, менее - 0.\n",
    "labels_dd=data.DepDelay.copy()\n",
    "labels_dd.loc[data.DepDelay>=30]=1\n",
    "labels_dd.loc[data.DepDelay<30]=0\n",
    "print ('Доля класса \"DepDelay\":', labels_dd.mean())\n",
    "print ('Доля класса \"not DepDelay\":', 1 - labels_dd.mean())"
   ]
  },
  {
   "cell_type": "markdown",
   "metadata": {},
   "source": [
    "##### 12,1 % рейсов отправляются с опозданием более 30 минут, еще 1,2% увеличивают опоздание в процессе полета"
   ]
  },
  {
   "cell_type": "markdown",
   "metadata": {},
   "source": [
    "### Числовые и категориальные переменные"
   ]
  },
  {
   "cell_type": "code",
   "execution_count": 21,
   "metadata": {},
   "outputs": [],
   "source": [
    "# Добавим соответствующий столбец в общий датасет\n",
    "data['DepDelay_cat']=labels_dd.copy()"
   ]
  },
  {
   "cell_type": "code",
   "execution_count": 22,
   "metadata": {},
   "outputs": [],
   "source": [
    "# Обновим список категориальных переменных\n",
    "features_cat = ['Month','DayofMonth','DayOfWeek','UniqueCarrier','FlightNum','TailNum','Origin','Dest','Cancelled'\n",
    "                ,'CancellationCode','ArrDelay_cat','DepDelay_cat']"
   ]
  },
  {
   "cell_type": "code",
   "execution_count": 23,
   "metadata": {},
   "outputs": [
    {
     "name": "stdout",
     "output_type": "stream",
     "text": [
      "DepTime\n",
      "CRSDepTime\n",
      "ArrTime\n",
      "CRSArrTime\n",
      "ActualElapsedTime\n",
      "CRSElapsedTime\n",
      "AirTime\n",
      "Distance\n",
      "TaxiIn\n",
      "TaxiOut\n",
      "CarrierDelay\n",
      "WeatherDelay\n",
      "NASDelay\n",
      "SecurityDelay\n",
      "LateAircraftDelay\n",
      "ArrDelay\n",
      "DepDelay\n"
     ]
    },
    {
     "data": {
      "text/plain": [
       "16"
      ]
     },
     "execution_count": 23,
     "metadata": {},
     "output_type": "execute_result"
    }
   ],
   "source": [
    "# Рассчитаем зависимость Времени задержки вылета от числовых переменных\n",
    "# таблица разностей\n",
    "diff_numeric = data.loc[labels_dd == 1, features_num].mean() - data.loc[labels_dd == 0, features_num].mean()\n",
    "\n",
    "# проверим, значимо ли отличаются средние для обоих классов в каждом признаке\n",
    "p_values = list()\n",
    "for i, feat in enumerate(features_num):\n",
    "    print(feat)\n",
    "    label0 = data.loc[labels_dd == 0, feat].dropna()\n",
    "    label1 = data.loc[labels_dd == 1, feat].dropna()\n",
    "    if len(label0) < 10 or len(label1) < 10:\n",
    "        p_value = 1\n",
    "    else:\n",
    "        p_value = stats.mannwhitneyu(label0, label1)[1]\n",
    "    p_values.append(p_value)\n",
    "\n",
    "# сохраним разности матожиданий и значимости в отдельный датафрейм. и сразу отсортируем.\n",
    "mns_and_ps = pd.DataFrame({'mean_diff': diff_numeric, 'p_value': p_values}).sort_values('p_value')\n",
    "\n",
    "# количество переменных, у которых статистически значимо различаются средние\n",
    "sum(mns_and_ps['p_value'] < 0.01)"
   ]
  },
  {
   "cell_type": "markdown",
   "metadata": {},
   "source": [
    "##### 16 переменных из 17 показывают зависимость с Временем задержки вылета, что подозрительно, необходимо перепроверить другим методом"
   ]
  },
  {
   "cell_type": "code",
   "execution_count": 24,
   "metadata": {},
   "outputs": [
    {
     "name": "stdout",
     "output_type": "stream",
     "text": [
      "DepTime\n",
      "CRSDepTime\n",
      "ArrTime\n",
      "CRSArrTime\n",
      "ActualElapsedTime\n",
      "CRSElapsedTime\n",
      "AirTime\n",
      "Distance\n",
      "TaxiIn\n",
      "TaxiOut\n",
      "CarrierDelay\n",
      "WeatherDelay\n",
      "NASDelay\n",
      "SecurityDelay\n",
      "LateAircraftDelay\n",
      "ArrDelay\n",
      "DepDelay\n"
     ]
    },
    {
     "data": {
      "text/plain": [
       "16"
      ]
     },
     "execution_count": 24,
     "metadata": {},
     "output_type": "execute_result"
    }
   ],
   "source": [
    "# Рассчитаем зависимость Отмены рейса от числовых переменных\n",
    "# таблица разностей\n",
    "diff_numeric = data.loc[labels_dd == 1, features_num].mean() - data.loc[data.Cancelled == 0, features_num].mean()\n",
    "\n",
    "# проверим, значимо ли отличаются средние для обоих классов в каждом признаке\n",
    "p_values = list()\n",
    "for i, feat in enumerate(features_num):\n",
    "    print(feat)\n",
    "    label0 = data.loc[labels_dd == 0, feat].dropna()\n",
    "    label1 = data.loc[labels_dd == 1, feat].dropna()\n",
    "    if len(label0) < 10 or len(label1) < 10:\n",
    "        p_value = 1\n",
    "    else:\n",
    "        p_value = stats.mannwhitneyu(label0, label1)[1]\n",
    "    p_values.append(p_value)\n",
    "\n",
    "# сохраним разности матожиданий и значимости в отдельный датафрейм. и сразу отсортируем.\n",
    "mns_and_ps = pd.DataFrame({'mean_diff': diff_numeric, 'p_value': p_values}).sort_values('p_value')\n",
    "\n",
    "# количество переменных, у которых статистически значимо различаются средние\n",
    "sum(mns_and_ps['p_value'] < 0.01)"
   ]
  },
  {
   "cell_type": "markdown",
   "metadata": {},
   "source": [
    "##### Схожие подозрительные результаты"
   ]
  },
  {
   "cell_type": "markdown",
   "metadata": {},
   "source": [
    "### Категориальные переменные"
   ]
  },
  {
   "cell_type": "code",
   "execution_count": 25,
   "metadata": {},
   "outputs": [],
   "source": [
    "# коэффициент корреляции Крамера для категориальных переменных\n",
    "def cramers_corrected_stat(confusion_matrix):\n",
    "    \"\"\" calculate Cramers V statistic for categorial-categorial association.\n",
    "        uses correction from Bergsma and Wicher, \n",
    "        Journal of the Korean Statistical Society 42 (2013): 323-328\n",
    "    \"\"\"\n",
    "    chi2 = ss.chi2_contingency(confusion_matrix)[0]\n",
    "    n = confusion_matrix.sum()\n",
    "    phi2 = chi2/n\n",
    "    r,k = confusion_matrix.shape\n",
    "    phi2corr = max(0, phi2 - ((k-1)*(r-1))/(n-1))    \n",
    "    rcorr = r - ((r-1)**2)/(n-1)\n",
    "    kcorr = k - ((k-1)**2)/(n-1)\n",
    "    return np.sqrt(phi2corr / min( (kcorr-1), (rcorr-1)))\n",
    "\n",
    "\n",
    "# обертка для функции выше\n",
    "def get_cramers_cor(var1, var2):\n",
    "    if var1.equals(var2):\n",
    "        return 1.0\n",
    "    confusion_matrix = pd.crosstab(var1, var2)\n",
    "    return cramers_corrected_stat(np.array(confusion_matrix))\n",
    "\n",
    "# строим доверительный интервал Вильсона (т.к. смещенные доли) и проверяем, принадлежит ли ему бейслайн\n",
    "def in_conf_int(baseline, proportion, n, alpha = 0.05):\n",
    "    conf_int = proportion_confint(proportion*n, n, alpha = alpha, method=\"wilson\")\n",
    "    # print baseline, conf_int\n",
    "    if baseline > conf_int[0] and baseline < conf_int[1]:\n",
    "        return True\n",
    "    return False"
   ]
  },
  {
   "cell_type": "code",
   "execution_count": 26,
   "metadata": {},
   "outputs": [
    {
     "data": {
      "image/png": "[encoded data removed]",
      "text/plain": [
       "<Figure size 864x864 with 2 Axes>"
      ]
     },
     "metadata": {
      "needs_background": "light"
     },
     "output_type": "display_data"
    }
   ],
   "source": [
    "features_cat_cor = features_cat\n",
    "# считаем корреляции\n",
    "conf_matrix_cor = pd.DataFrame(1.0, index=features_cat_cor, columns=features_cat_cor)\n",
    "for feat in itertools.combinations(features_cat_cor, 2):\n",
    "    conf_matrix_cor.loc[feat[0], feat[1]] = get_cramers_cor(data[feat[0]], data[feat[1]])\n",
    "    conf_matrix_cor.loc[feat[1], feat[0]] = conf_matrix_cor.loc[feat[0], feat[1]]\n",
    "\n",
    "# маска треугольника\n",
    "mask = np.zeros_like(conf_matrix_cor, dtype=np.bool)\n",
    "mask[np.triu_indices_from(mask)] = True\n",
    "\n",
    "# параметры графика\n",
    "f, ax = plt.subplots(figsize=(12, 12))\n",
    "\n",
    "# палитра\n",
    "cmap = sns.diverging_palette(220, 10, as_cmap=True)\n",
    "\n",
    "# отрисовка тепловой карты\n",
    "sns.heatmap(conf_matrix_cor, mask=mask, cmap=cmap, vmax=1.0, vmin=0.0,\n",
    "            square=True, xticklabels=True, yticklabels=True,\n",
    "            linewidths=.1, cbar_kws={\"shrink\": .5}, ax=ax)\n",
    "plt.show()"
   ]
  },
  {
   "cell_type": "code",
   "execution_count": 254,
   "metadata": {},
   "outputs": [
    {
     "data": {
      "text/html": [
       "<div>\n",
       "<style scoped>\n",
       "    .dataframe tbody tr th:only-of-type {\n",
       "        vertical-align: middle;\n",
       "    }\n",
       "\n",
       "    .dataframe tbody tr th {\n",
       "        vertical-align: top;\n",
       "    }\n",
       "\n",
       "    .dataframe thead th {\n",
       "        text-align: right;\n",
       "    }\n",
       "</style>\n",
       "<table border=\"1\" class=\"dataframe\">\n",
       "  <thead>\n",
       "    <tr style=\"text-align: right;\">\n",
       "      <th></th>\n",
       "      <th>Month</th>\n",
       "      <th>DayofMonth</th>\n",
       "      <th>DayOfWeek</th>\n",
       "      <th>UniqueCarrier</th>\n",
       "      <th>FlightNum</th>\n",
       "      <th>TailNum</th>\n",
       "      <th>Origin</th>\n",
       "      <th>Dest</th>\n",
       "      <th>Cancelled</th>\n",
       "      <th>CancellationCode</th>\n",
       "      <th>ArrDelay_cat</th>\n",
       "      <th>DepDelay_cat</th>\n",
       "    </tr>\n",
       "  </thead>\n",
       "  <tbody>\n",
       "    <tr>\n",
       "      <th>Month</th>\n",
       "      <td>1.000000</td>\n",
       "      <td>0.042357</td>\n",
       "      <td>0.047663</td>\n",
       "      <td>0.025548</td>\n",
       "      <td>0.097721</td>\n",
       "      <td>0.109043</td>\n",
       "      <td>0.023184</td>\n",
       "      <td>0.022775</td>\n",
       "      <td>0.060541</td>\n",
       "      <td>0.039901</td>\n",
       "      <td>0.119254</td>\n",
       "      <td>0.110599</td>\n",
       "    </tr>\n",
       "    <tr>\n",
       "      <th>DayofMonth</th>\n",
       "      <td>0.042357</td>\n",
       "      <td>1.000000</td>\n",
       "      <td>0.175005</td>\n",
       "      <td>0.002998</td>\n",
       "      <td>0.000000</td>\n",
       "      <td>0.000000</td>\n",
       "      <td>0.000000</td>\n",
       "      <td>0.000000</td>\n",
       "      <td>0.025999</td>\n",
       "      <td>0.023002</td>\n",
       "      <td>0.035450</td>\n",
       "      <td>0.035552</td>\n",
       "    </tr>\n",
       "    <tr>\n",
       "      <th>DayOfWeek</th>\n",
       "      <td>0.047663</td>\n",
       "      <td>0.175005</td>\n",
       "      <td>1.000000</td>\n",
       "      <td>0.006223</td>\n",
       "      <td>0.042702</td>\n",
       "      <td>0.016106</td>\n",
       "      <td>0.011415</td>\n",
       "      <td>0.016963</td>\n",
       "      <td>0.008915</td>\n",
       "      <td>0.010901</td>\n",
       "      <td>0.032990</td>\n",
       "      <td>0.034012</td>\n",
       "    </tr>\n",
       "    <tr>\n",
       "      <th>UniqueCarrier</th>\n",
       "      <td>0.025548</td>\n",
       "      <td>0.002998</td>\n",
       "      <td>0.006223</td>\n",
       "      <td>1.000000</td>\n",
       "      <td>0.441698</td>\n",
       "      <td>0.962224</td>\n",
       "      <td>0.466959</td>\n",
       "      <td>0.463946</td>\n",
       "      <td>0.108376</td>\n",
       "      <td>0.072833</td>\n",
       "      <td>0.086978</td>\n",
       "      <td>0.079543</td>\n",
       "    </tr>\n",
       "    <tr>\n",
       "      <th>FlightNum</th>\n",
       "      <td>0.097721</td>\n",
       "      <td>0.000000</td>\n",
       "      <td>0.042702</td>\n",
       "      <td>0.441698</td>\n",
       "      <td>1.000000</td>\n",
       "      <td>0.000000</td>\n",
       "      <td>0.453763</td>\n",
       "      <td>0.458305</td>\n",
       "      <td>0.261584</td>\n",
       "      <td>0.266952</td>\n",
       "      <td>0.116909</td>\n",
       "      <td>0.117035</td>\n",
       "    </tr>\n",
       "    <tr>\n",
       "      <th>TailNum</th>\n",
       "      <td>0.109043</td>\n",
       "      <td>0.000000</td>\n",
       "      <td>0.016106</td>\n",
       "      <td>0.962224</td>\n",
       "      <td>0.000000</td>\n",
       "      <td>1.000000</td>\n",
       "      <td>0.122046</td>\n",
       "      <td>0.128380</td>\n",
       "      <td>0.136917</td>\n",
       "      <td>0.078114</td>\n",
       "      <td>0.127344</td>\n",
       "      <td>0.122749</td>\n",
       "    </tr>\n",
       "    <tr>\n",
       "      <th>Origin</th>\n",
       "      <td>0.023184</td>\n",
       "      <td>0.000000</td>\n",
       "      <td>0.011415</td>\n",
       "      <td>0.466959</td>\n",
       "      <td>0.453763</td>\n",
       "      <td>0.122046</td>\n",
       "      <td>1.000000</td>\n",
       "      <td>0.157044</td>\n",
       "      <td>0.097412</td>\n",
       "      <td>0.091760</td>\n",
       "      <td>0.103320</td>\n",
       "      <td>0.089816</td>\n",
       "    </tr>\n",
       "    <tr>\n",
       "      <th>Dest</th>\n",
       "      <td>0.022775</td>\n",
       "      <td>0.000000</td>\n",
       "      <td>0.016963</td>\n",
       "      <td>0.463946</td>\n",
       "      <td>0.458305</td>\n",
       "      <td>0.128380</td>\n",
       "      <td>0.157044</td>\n",
       "      <td>1.000000</td>\n",
       "      <td>0.121620</td>\n",
       "      <td>0.111102</td>\n",
       "      <td>0.106746</td>\n",
       "      <td>0.102658</td>\n",
       "    </tr>\n",
       "    <tr>\n",
       "      <th>Cancelled</th>\n",
       "      <td>0.060541</td>\n",
       "      <td>0.025999</td>\n",
       "      <td>0.008915</td>\n",
       "      <td>0.108376</td>\n",
       "      <td>0.261584</td>\n",
       "      <td>0.136917</td>\n",
       "      <td>0.097412</td>\n",
       "      <td>0.121620</td>\n",
       "      <td>1.000000</td>\n",
       "      <td>0.999986</td>\n",
       "      <td>0.035973</td>\n",
       "      <td>0.033535</td>\n",
       "    </tr>\n",
       "    <tr>\n",
       "      <th>CancellationCode</th>\n",
       "      <td>0.039901</td>\n",
       "      <td>0.023002</td>\n",
       "      <td>0.010901</td>\n",
       "      <td>0.072833</td>\n",
       "      <td>0.266952</td>\n",
       "      <td>0.078114</td>\n",
       "      <td>0.091760</td>\n",
       "      <td>0.111102</td>\n",
       "      <td>0.999986</td>\n",
       "      <td>1.000000</td>\n",
       "      <td>0.035804</td>\n",
       "      <td>0.033352</td>\n",
       "    </tr>\n",
       "    <tr>\n",
       "      <th>ArrDelay_cat</th>\n",
       "      <td>0.119254</td>\n",
       "      <td>0.035450</td>\n",
       "      <td>0.032990</td>\n",
       "      <td>0.086978</td>\n",
       "      <td>0.116909</td>\n",
       "      <td>0.127344</td>\n",
       "      <td>0.103320</td>\n",
       "      <td>0.106746</td>\n",
       "      <td>0.035973</td>\n",
       "      <td>0.035804</td>\n",
       "      <td>1.000000</td>\n",
       "      <td>0.799960</td>\n",
       "    </tr>\n",
       "    <tr>\n",
       "      <th>DepDelay_cat</th>\n",
       "      <td>0.110599</td>\n",
       "      <td>0.035552</td>\n",
       "      <td>0.034012</td>\n",
       "      <td>0.079543</td>\n",
       "      <td>0.117035</td>\n",
       "      <td>0.122749</td>\n",
       "      <td>0.089816</td>\n",
       "      <td>0.102658</td>\n",
       "      <td>0.033535</td>\n",
       "      <td>0.033352</td>\n",
       "      <td>0.799960</td>\n",
       "      <td>1.000000</td>\n",
       "    </tr>\n",
       "  </tbody>\n",
       "</table>\n",
       "</div>"
      ],
      "text/plain": [
       "                     Month  DayofMonth  DayOfWeek  UniqueCarrier  FlightNum  \\\n",
       "Month             1.000000    0.042357   0.047663       0.025548   0.097721   \n",
       "DayofMonth        0.042357    1.000000   0.175005       0.002998   0.000000   \n",
       "DayOfWeek         0.047663    0.175005   1.000000       0.006223   0.042702   \n",
       "UniqueCarrier     0.025548    0.002998   0.006223       1.000000   0.441698   \n",
       "FlightNum         0.097721    0.000000   0.042702       0.441698   1.000000   \n",
       "TailNum           0.109043    0.000000   0.016106       0.962224   0.000000   \n",
       "Origin            0.023184    0.000000   0.011415       0.466959   0.453763   \n",
       "Dest              0.022775    0.000000   0.016963       0.463946   0.458305   \n",
       "Cancelled         0.060541    0.025999   0.008915       0.108376   0.261584   \n",
       "CancellationCode  0.039901    0.023002   0.010901       0.072833   0.266952   \n",
       "ArrDelay_cat      0.119254    0.035450   0.032990       0.086978   0.116909   \n",
       "DepDelay_cat      0.110599    0.035552   0.034012       0.079543   0.117035   \n",
       "\n",
       "                   TailNum    Origin      Dest  Cancelled  CancellationCode  \\\n",
       "Month             0.109043  0.023184  0.022775   0.060541          0.039901   \n",
       "DayofMonth        0.000000  0.000000  0.000000   0.025999          0.023002   \n",
       "DayOfWeek         0.016106  0.011415  0.016963   0.008915          0.010901   \n",
       "UniqueCarrier     0.962224  0.466959  0.463946   0.108376          0.072833   \n",
       "FlightNum         0.000000  0.453763  0.458305   0.261584          0.266952   \n",
       "TailNum           1.000000  0.122046  0.128380   0.136917          0.078114   \n",
       "Origin            0.122046  1.000000  0.157044   0.097412          0.091760   \n",
       "Dest              0.128380  0.157044  1.000000   0.121620          0.111102   \n",
       "Cancelled         0.136917  0.097412  0.121620   1.000000          0.999986   \n",
       "CancellationCode  0.078114  0.091760  0.111102   0.999986          1.000000   \n",
       "ArrDelay_cat      0.127344  0.103320  0.106746   0.035973          0.035804   \n",
       "DepDelay_cat      0.122749  0.089816  0.102658   0.033535          0.033352   \n",
       "\n",
       "                  ArrDelay_cat  DepDelay_cat  \n",
       "Month                 0.119254      0.110599  \n",
       "DayofMonth            0.035450      0.035552  \n",
       "DayOfWeek             0.032990      0.034012  \n",
       "UniqueCarrier         0.086978      0.079543  \n",
       "FlightNum             0.116909      0.117035  \n",
       "TailNum               0.127344      0.122749  \n",
       "Origin                0.103320      0.089816  \n",
       "Dest                  0.106746      0.102658  \n",
       "Cancelled             0.035973      0.033535  \n",
       "CancellationCode      0.035804      0.033352  \n",
       "ArrDelay_cat          1.000000      0.799960  \n",
       "DepDelay_cat          0.799960      1.000000  "
      ]
     },
     "execution_count": 254,
     "metadata": {},
     "output_type": "execute_result"
    }
   ],
   "source": [
    "conf_matrix_cor"
   ]
  },
  {
   "cell_type": "markdown",
   "metadata": {},
   "source": [
    "1. Видим корреляцию на уровне 0,5 между номером рейса с аэропортом и направлением следования (что скорее всего одно и то же). Данная корреляция логична, т.к. номер рейса привязан к направлению и аэропорту \n",
    "2. Есть небольшая корреляция на уровне 0,10-0,12 между Задержкой рейса и Месяцем, Номером рейса, Номером самолета, Направлением и Аэропортом\n",
    "3. И более существенную корреляцию (0,26) между Отменой рейса и Номером рейса. Отмена рейса с Номером самолета, Направлением и Аэропортом - 0,10-0,14"
   ]
  },
  {
   "cell_type": "markdown",
   "metadata": {},
   "source": [
    "### Выводы"
   ]
  },
  {
   "cell_type": "markdown",
   "metadata": {},
   "source": [
    "Предварительный анализ показывает, что чувствительные для пассажира переменные (Отмена, Задержка рейса) имеют корреляции с другими числовыми и категориальными переменными датасета."
   ]
  },
  {
   "cell_type": "markdown",
   "metadata": {},
   "source": [
    "##### Из данного датасета можно вытащить еще много интересных инсайтов. Видно, что бывают не только задержки отлетов и прилетов, но и вылеты и прилеты раньше расписания"
   ]
  },
  {
   "cell_type": "code",
   "execution_count": null,
   "metadata": {},
   "outputs": [],
   "source": []
  }
 ],
 "metadata": {
  "kernelspec": {
   "display_name": "Python 3",
   "language": "python",
   "name": "python3"
  },
  "language_info": {
   "codemirror_mode": {
    "name": "ipython",
    "version": 3
   },
   "file_extension": ".py",
   "mimetype": "text/x-python",
   "name": "python",
   "nbconvert_exporter": "python",
   "pygments_lexer": "ipython3",
   "version": "3.7.3"
  }
 },
 "nbformat": 4,
 "nbformat_minor": 1
}
